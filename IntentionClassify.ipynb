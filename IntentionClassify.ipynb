{
 "cells": [
  {
   "cell_type": "markdown",
   "metadata": {},
   "source": [
    "论文中使用这个方法的步骤大致如下：\n",
    "1. 清理评论数据，找出10万条评论数据，然后一一进行标注分类。\n",
    "2. 分类包括：1.想去，2.不想去，3.不明确，4.无关\n",
    "3. 用BERT进行训练。\n",
    "4. 训练模型的过程要在论文中进行描述，包括：使用了什么算法、采用了多少数据，最后给出关于这4个类型的混淆矩阵的对比图，以及训练过程中loss的变化图。\n",
    "5. 后续用这个模型来预测其他的所有的旅游意愿。"
   ]
  },
  {
   "cell_type": "markdown",
   "metadata": {},
   "source": [
    "# 使用预训练的BERT完成分类任务\n",
    "- 参考：https://www.bilibili.com/video/BV1KT421S7K4/?spm_id_from=333.337.search-card.all.click&vd_source=2b245db5a324284a2f8c5e57c3fea278\n",
    "- 这里使用了18万条中文新闻标题数据和对应的类别标签。\n",
    "- 采用google-bert/bert-base-chinese预训练模型。\n"
   ]
  },
  {
   "cell_type": "code",
   "execution_count": null,
   "metadata": {},
   "outputs": [],
   "source": [
    "import os\n",
    "os.environ['HF_ENDPOINT'] = 'https://hf-mirror.com'"
   ]
  }
 ],
 "metadata": {
  "kernelspec": {
   "display_name": "myvenv",
   "language": "python",
   "name": "python3"
  },
  "language_info": {
   "name": "python",
   "version": "3.11.5"
  }
 },
 "nbformat": 4,
 "nbformat_minor": 2
}
